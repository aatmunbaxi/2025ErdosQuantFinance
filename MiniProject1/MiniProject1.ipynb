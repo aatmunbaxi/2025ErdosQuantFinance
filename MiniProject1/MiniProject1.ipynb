{
 "cells": [
  {
   "cell_type": "markdown",
   "metadata": {},
   "source": [
    "# Project Statement\n",
    "\n",
    "**Use current stock data to create two potentially profitable investment\n",
    "portfolios. One that is higher risk and one that is lower risk.**\n",
    "\n",
    "**You are to explain your interpretation of a high risk profile and low\n",
    "risk profile of a portfolio. You should provide some measurable\n",
    "quantitative data in you explanation.**\n",
    "\n",
    "# Portfolio Choice and Motivation\n",
    "\n",
    "It is well documented that investors that invest for consumption goals\n",
    "in the long term (i.e. to fund consumption \\>10 years from the beginning\n",
    "of investment) can maximize expected return and minimize risk—as defined\n",
    "by volatility and probability of (un)realized capital loss—by holding\n",
    "broadly diversified, low cost index funds of risky assests with expected\n",
    "returns in excess of 3 month US treasury bills. Furthermore, it is\n",
    "financial dogma to hold differing proportions of the more \"risky\" stocks\n",
    "and \"safer\" bonds according to how close the investor is to their date\n",
    "of their consumption beginning.\n",
    "\n",
    "We take the persona of a young investor, defined as an investor entering\n",
    "a risky portfolio of stocks and bonds to fund consumption occurring a\n",
    "least 25 years in the future. We accept the dogma of investing in low\n",
    "cost, total market index funds to hold long term, and base *both* of our\n",
    "portfolios on the following assumptions:\n",
    "\n",
    "1.  Invest in total market index funds at a 90% stock/10% bond split\n",
    "2.  Stocks should be diversified globally\n",
    "3.  The bond portion will be zero coupon 25+ year Treasury STRIPS\n",
    "\n",
    "We introduce a 10% bond allocation due to its curtailing of\n",
    "psychological risk and improving of risk-adjusted returns. Moreover, our\n",
    "duration exposure to the bonds should be in line with our consumption\n",
    "timeline. As such, we adopt ultra-long dated Treasury STRIPS, as opposed\n",
    "to a total bond market fund, which would have an average duration in the\n",
    "intermediate length of ~6 years. It has been demonstrated that STRIPS\n",
    "have lower correlation with stocks than intermediate date bonds, and\n",
    "would provide a stronger diversification benefit, which is desirable in\n",
    "our framework. We will give empirical evidence for this fact.\n",
    "\n",
    "Our \"low risk\" portfolio will consist of 90% global stocks at\n",
    "**current** market cap weights and 10% 25+ year US Treasury STRIPS.\n",
    "\n",
    "| Asset             | %   |\n",
    "|-------------------|-----|\n",
    "| Total US Stock    | 57  |\n",
    "| Total ex-US Stock | 33  |\n",
    "| Total US Treasury | 10  |\n",
    "\n",
    "The choice of using current market cap weights for the US and ex-US\n",
    "geographies is to make the portfolio comparable to the high risk\n",
    "portfolio.\n",
    "\n",
    "# Risk Factors as Sources of Increased Risk\n",
    "\n",
    "In Capital Asset Pricing Model (CAPM), the \"low\" risk portfolio would be\n",
    "nearly the riskiest portfolio one can come up with, when only\n",
    "compensated risks are accounted for. A compensated risk is a source of\n",
    "risk that an investor can expect to be compensated for, while an\n",
    "investor taking on uncompensated risk cannot expect to increase their\n",
    "returns for doing so. Examples of uncompensated risks are concentration\n",
    "risk, where assets are highly concentrated into one asset (e.g. a\n",
    "particular stock), and idiosyncratic country risk, where one\n",
    "concentrates their stock holdings in a particular country's stock\n",
    "market.\n",
    "\n",
    "The common thread of uncompensated risk is that they can be eliminated\n",
    "with diversification, something that the \"optimal\" portfolio in the CAPM\n",
    "model supports. Our portfolios will also strive to take on only\n",
    "compensated risks, but short of having a 100% stock allocation, our \"low\n",
    "risk\" portfolio is already about as risky as we can get. One then\n",
    "wonders, how can we take on more **compensated** risk to produce a\n",
    "higher risk portfolio than the one we have already?\n",
    "\n",
    "The work of Eugene Fama and Kenneth French provide a possible answer. In\n",
    "short, Fama and French observed excess alpha (broadly-occurring return\n",
    "in excess of the market portfolio) in certain stocks that the CAPM could\n",
    "not explain. Statistically, the CAPM could only explain 70% of the\n",
    "returns a diversified portfolio of stocks. Fama and French sought to\n",
    "modify the pricing model to explain more of the returns.\n",
    "\n",
    "Summarizing their body of research, they proposed two additional *risk\n",
    "factors*: the size risk factor and value risk factor. By measuring a\n",
    "diversified stock portfolio's exposure to companies with smaller size\n",
    "(known as \"small cap\" companies) and with lower price-to-book values\n",
    "(known as \"value\" companies), Fama and French were able to increase the\n",
    "explanatory power of the CAPM from 70% to \\>90% with their additional\n",
    "risk factors. Their model is called the Fama-French three-factor model.\n",
    "\n",
    "The risk factors in this model are\n",
    "\n",
    "1.  Market beta (exposure to diversified stock)\n",
    "2.  Size\n",
    "3.  Value\n",
    "\n",
    "It should be noted that the model improves on the CAPM *empirically* in\n",
    "how it explains returns, but past returns do not predict the future.\n",
    "However, there are good reasons to believe thse addition risk factors\n",
    "should be compensated ones.\n",
    "\n",
    "# The High Risk Portfolio\n",
    "\n",
    "The three factor model predicts that a portfolio with higher exposure to\n",
    "small cap companies and value companies can give returns higher than the\n",
    "market portfolio. This is the basis for our high risk portfolio.\n",
    "\n",
    "Sticking with the 90/10 stock/STRIPS allocation, we allocate 50% of each\n",
    "of our geography's stock markets to small cap value companies in that\n",
    "geography.\n",
    "\n",
    "For example, at current market capitalizations, US stocks consist of\n",
    "approximately 64% of the world's free-float market capitalization, with\n",
    "ex-US contributing the remaining 36%. In our low risk portfolio, we\n",
    "allocated 90% of our assets to this split, so our geography breakdown\n",
    "would be $0.9\\ast 0.64 = 57\\%$ total US market, and\n",
    "$0.9\\ast 0.36 = 33\\%$ total ex-US stock market.\n",
    "\n",
    "In our high risk portfolio, these would be halved to $28\\% $ and $17\\%$\n",
    "for US and ex-US total market, respectively, making way for $29\\%$ and\n",
    "$16\\%$ US and ex-US small cap value, respectively.\n",
    "\n",
    "The choice of $50\\% $ dedicated to small cap value in each geography is\n",
    "somewhat arbitrary, and is likely considered a very aggressive tilt to\n",
    "the size and value factors. Our high risk portfolio is then\n",
    "\n",
    "| Asset                 | %   |\n",
    "|-----------------------|-----|\n",
    "| Total US Stock        | 25  |\n",
    "| US Small Cap Value    | 25  |\n",
    "| Total ex-US Stock     | 15  |\n",
    "| ex-US Small Cap Value | 15  |\n",
    "| 25+ STRIPS            | 10  |\n",
    "\n",
    "# Risk of Small Cap Value\n",
    "\n",
    "Though we have used the three factor model to incorporate new sources of\n",
    "risk into our high risk portfolio, it turns out that we have\n",
    "incorporated assets that have higher risk even in traditional metrics of\n",
    "risk such as volatitily. Let us demonstrate this empirically.\n",
    "\n",
    "We will use the Dimensional funds' DFSVX and DISVX as our representative\n",
    "tickers for US small cap value and ex-US small cap value, respectively.\n",
    "We will compare the volatility of these funds against their respective\n",
    "geography's total stock markets, represented by `VTI` and `VXUS` for US\n",
    "and ex-US.\n",
    "\n",
    "In order to capture the **total** return of these assets, we choose to\n",
    "use data from [testfolio](https://testfol.io), a portfolio backtesting\n",
    "tool that captures total returns of a portfolio, not just price action\n",
    "like Yahoo Finance. The data we load gives the hypothetical growth of 4\n",
    "portfolios, each invested 100% into one of the assets above."
   ],
   "id": "df50fef9-2d20-4c52-8145-58d06326b8d2"
  },
  {
   "cell_type": "code",
   "execution_count": null,
   "metadata": {
    "session": "MiniProject1"
   },
   "outputs": [],
   "source": [
    "import datetime as dt\n",
    "import pandas as pd\n",
    "import numpy as np\n",
    "import matplotlib.pyplot as plt\n",
    "%matplotlib inline\n",
    "\n",
    "us_exus = pd.read_csv(\"./us-exus.csv\")\n",
    "# us_exus.index = pd.to_datetime(us_exus[\"Date\"])\n",
    "us_exus.set_index(pd.to_datetime(us_exus[\"Date\"]),inplace=True)\n",
    "us_exus.drop(\"Date\",axis=1,inplace=True)\n",
    "us_exus.plot(rot=70)\n"
   ],
   "id": "dd0cd779-9171-4521-bd98-b5b125ffb826"
  },
  {
   "cell_type": "markdown",
   "metadata": {},
   "source": [],
   "id": "1f567e07-3cb1-4e8a-ad36-77b90412ebc7"
  },
  {
   "cell_type": "code",
   "execution_count": null,
   "metadata": {
    "session": "MiniProject1"
   },
   "outputs": [],
   "source": [
    "day_returns = (us_exus.shift(1) -us_exus) / us_exus\n",
    "day_returns.describe()\n"
   ],
   "id": "ee491053-1137-4ffc-8fd4-9a8e6fe5ea87"
  },
  {
   "cell_type": "markdown",
   "metadata": {},
   "source": [
    "The \"SIM\" suffix indicates that the time series is simulating returns of\n",
    "the ticker in the prefix. e.g. \"VTISIM\" represents the total return of\n",
    "the total US equity market, as VTI has only been around since 2001.\n",
    "\n",
    "With the data of daily returns in hand, we can compare volatilities over\n",
    "the period from June 1996 to today."
   ],
   "id": "8fd0e9eb-2d8e-41ea-a737-fda513d8c9d0"
  },
  {
   "cell_type": "code",
   "execution_count": null,
   "metadata": {
    "session": "MiniProject1"
   },
   "outputs": [],
   "source": [
    "import numpy as np\n",
    "log_returns = np.log(day_returns+1).dropna()\n",
    "# log_returns.describe()\n",
    "(np.sqrt(252)*log_returns).describe().loc[\"std\"]\n"
   ],
   "id": "62a4bbaf-7b14-419b-9710-d804656a1572"
  },
  {
   "cell_type": "markdown",
   "metadata": {},
   "source": [
    "One can see that the volatility of returns of US small cap value is\n",
    "higher than the total stock market index, while it is slightly lower in\n",
    "the ex-US geography. In this sense, adding these assets to the low risk\n",
    "portfolio increases the volatility, making it higher risk in traditional\n",
    "metrics. We can also visually inspect a histogram of daily returns and\n",
    "see how they are distributed."
   ],
   "id": "ef3f4815-ccda-4b09-a61e-88e76235d079"
  },
  {
   "cell_type": "code",
   "execution_count": null,
   "metadata": {
    "session": "MiniProject1"
   },
   "outputs": [],
   "source": [
    "(100*day_returns).plot(kind=\"hist\",bins=120,xlabel = \"Daily Return (%)\",\n",
    "                 xlim=(-3.5,3.5),\n",
    "                 ylabel = \"Observations\",\n",
    "                 subplots=True,layout=(2,2),\n",
    "                 title = \"Distributions of Daily Returns\")\n"
   ],
   "id": "0131de45-943e-4e86-b6f9-667130e53628"
  },
  {
   "cell_type": "markdown",
   "metadata": {},
   "source": [
    "The US small cap value asset has fatter tails than the total market\n",
    "counterpart in the same geography, as demonstrated by the higher\n",
    "volatility earlier. The additional concentration of the higher risk\n",
    "portfolio in these assets would make it more risky.\n",
    "\n",
    "# Bond Returns Time Series"
   ],
   "id": "215c8c44-71dc-49fb-bae0-c9b4f9e4e8aa"
  },
  {
   "cell_type": "code",
   "execution_count": null,
   "metadata": {
    "session": "MiniProject1"
   },
   "outputs": [],
   "source": [
    "def csv_to_series(csv_path):\n",
    "    s = pd.read_csv(csv_path)\n",
    "    s[\"Date\"] = pd.to_datetime(s[\"Date\"])\n",
    "    s.set_index(\"Date\",inplace = True)\n",
    "    returns = (s.shift(-1)-s) / s\n",
    "    returns.columns = [ticker + \" Returns\" for ticker in s.columns]\n",
    "    return pd.concat([s, returns],axis=1)\n"
   ],
   "id": "0b1ed8e2-d660-45bd-94c4-c93ccc82f9dc"
  },
  {
   "cell_type": "markdown",
   "metadata": {},
   "source": [
    "Let us demonstrate why the choice of zero coupon bonds in the higher\n",
    "risk portfolio is riskier via volatility."
   ],
   "id": "b5869a47-174b-4c58-912e-0a983fa4e604"
  },
  {
   "cell_type": "code",
   "execution_count": null,
   "metadata": {
    "session": "MiniProject1"
   },
   "outputs": [],
   "source": [
    "govt = csv_to_series(\"./GOVT-returns.csv\")\n",
    "zroz = csv_to_series(\"./ZROZ-returns.csv\")\n",
    "zroz\n",
    "(np.log(pd.concat([1+ govt.drop(\"GOVT\",axis=1),\n",
    "                  1+zroz.drop(\"ZROZ\",axis=1)]))*np.sqrt(252)).describe().loc[\"std\"]\n"
   ],
   "id": "4ab2c0cb-0ce4-4d1a-9639-3b7ad332f603"
  },
  {
   "cell_type": "markdown",
   "metadata": {},
   "source": [
    "One sees that the daily returns of zero coupon bonds is significantly\n",
    "more volatile than treasuries with lower duration, with data going back\n",
    "to July 1969. However, this volatility is not taken arbitrarily. The\n",
    "stripping of interest payments from zero coupon bonds increases their\n",
    "expected returns over interest paying ones. Since we are interested in\n",
    "long term investing for both of our portfolios, we compare the calendar\n",
    "year returns"
   ],
   "id": "9c1be92f-f8ba-4f92-87fe-57dc16d90ab3"
  },
  {
   "cell_type": "code",
   "execution_count": null,
   "metadata": {
    "session": "MiniProject1"
   },
   "outputs": [],
   "source": [
    "yearly_zroz = (1+zroz[\"ZROZ Returns\"]).groupby(pd.Grouper(freq = \"YE\")).agg(\"prod\")\n",
    "yearly_govt = (1+govt[\"GOVT Returns\"]).groupby(pd.Grouper(freq = \"YE\")).agg(\"prod\")\n",
    "pd.concat([yearly_zroz,\n",
    "           yearly_govt],axis=1).plot(\n",
    "               y = [\"ZROZ Returns\", \"GOVT Returns\"],\n",
    "               title=\"Calendar year returns\",\n",
    "               ylabel= \"Return (%)\",\n",
    "               xlabel = \"Year\")\n"
   ],
   "id": "716b3bbb-28ba-4f3f-bc14-dbf3c3f53128"
  },
  {
   "cell_type": "markdown",
   "metadata": {},
   "source": [
    "Visually, the volatility difference is very stark. Historically, the\n",
    "zero coupon bonds have acted as \"bonds++\", increasing the magnitude of\n",
    "returns on intermediate-duration treasuries. The returns appear to agree\n",
    "in their direction, but differ strongly in magnitude, which is\n",
    "consistent with the interpretation of ultra-long duration bonds as a\n",
    "leveraged bond allocation.\n",
    "\n",
    "# A Backtest\n",
    "\n",
    "We can backtest our two portfolios to get an idea of how they would have\n",
    "performed against each other, had our hypothetical investor invested in\n",
    "them for the tested period."
   ],
   "id": "75f48a9a-bdd3-486b-aec8-c9dccb9428b0"
  },
  {
   "cell_type": "code",
   "execution_count": null,
   "metadata": {
    "session": "MiniProject1"
   },
   "outputs": [],
   "source": [
    "p1 = 0.57*vti + .33 * vxus + 0.1*govt\n",
    "p2 = 0.25*vti + 0.25*dfsvx + 0.15*vxus + 0.15*disvx + 0.10*zroz\n"
   ],
   "id": "57bcae1d-ac0a-459c-ba82-a8ed1e369505"
  },
  {
   "cell_type": "markdown",
   "metadata": {},
   "source": [],
   "id": "36f0513c-4b68-4d81-8989-bf4d05c5dfe0"
  },
  {
   "cell_type": "code",
   "execution_count": null,
   "metadata": {
    "session": "MiniProject1"
   },
   "outputs": [],
   "source": [
    "both = pd.concat([p1,p2],axis = 1).set_axis([\"Portfolio 1 Returns\", \"Portfolio 2 Returns\"],axis=1)\n",
    "both.describe()\n"
   ],
   "id": "82874314-eb46-4704-982a-d09c2ec1b2d8"
  },
  {
   "cell_type": "markdown",
   "metadata": {},
   "source": [
    "As we predicted, the standard deviation of daily returns the second\n",
    "portfolio is higher, indicating higher volatilily."
   ],
   "id": "a581c4a8-3256-4041-9b1b-a85241633f36"
  },
  {
   "cell_type": "code",
   "execution_count": null,
   "metadata": {
    "session": "MiniProject1"
   },
   "outputs": [],
   "source": [
    "(((1+both).groupby(pd.Grouper(freq=\"ME\")).agg(\"prod\")-1)*100).plot(kind=\"hist\",\n",
    "                                                             bins = 50,\n",
    "                                                     subplots=True,\n",
    "                                                     title = \"Distribution of Monthly Returns (%)\",\n",
    "                                                     xlabel = \"Montly Return (%)\")\n"
   ],
   "id": "757a49ca-ba5e-4c3b-b80a-0829393599b7"
  },
  {
   "cell_type": "markdown",
   "metadata": {},
   "source": [
    "Finally, we backtest both portfolios with a starting value of of \\$1000\n",
    "invested on 1994-12-28."
   ],
   "id": "50a1731d-bbe1-43e4-85eb-69986e189dcb"
  },
  {
   "cell_type": "code",
   "execution_count": null,
   "metadata": {
    "session": "MiniProject1"
   },
   "outputs": [],
   "source": [
    "((1+both).cumprod()*1000).plot(title = \"Growth of $1000\")\n"
   ],
   "id": "f8a68dd0-79df-4863-9594-5dbef2a4405c"
  },
  {
   "cell_type": "markdown",
   "metadata": {},
   "source": [
    "The higher risk portfolio ended up with higher total returns for this\n",
    "period. Obviously, past performance is not an indicator of future\n",
    "results."
   ],
   "id": "6ae81421-0976-4d0f-a456-b21212869c03"
  }
 ],
 "nbformat": 4,
 "nbformat_minor": 5,
 "metadata": {}
}
