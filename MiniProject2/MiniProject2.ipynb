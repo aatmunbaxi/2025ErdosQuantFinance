{
 "cells": [
  {
   "cell_type": "markdown",
   "metadata": {},
   "source": [
    "# Project Statement\n",
    "\n",
    "## Hypothesis Testing of Standard Assumptions Theoretical Financial Mathematics\n",
    "\n",
    "In the theory of mathematical finance, it is common to assume the log\n",
    "returns of a stock/index are normally distributed.\n",
    "\n",
    "Investigate if the log returns of stocks or indexes of your choosing are\n",
    "normally distributed. Some suggestions for exploration include:\n",
    "\n",
    "1.  Test if there are period of times when the log-returns of a\n",
    "    stock/index have evidence of normal distribution.\n",
    "2.  Test if removing extremal return data creates a distribution with\n",
    "    evidence of being normal.\n",
    "3.  Create a personalized portfolio of stocks with historical log return\n",
    "    data that is normally distributed.\n",
    "4.  Test if the portfolio you created in the first mini-project has\n",
    "    significant periods of time with evidence of normally distributed\n",
    "    log returns.\n",
    "5.  Gather x-number of historical stock data and just perform a\n",
    "    normality test on their log return data to see if any of the stocks\n",
    "    exhibit evidence of log returns that are normally distributed.\n",
    "\n",
    "# Data Retrieval"
   ],
   "id": "aa2391e7-e35a-4c28-9fa5-385b4ec48147"
  },
  {
   "cell_type": "code",
   "execution_count": null,
   "metadata": {
    "exports": "both",
    "session": "MiniProject2"
   },
   "outputs": [],
   "source": [
    "import numpy as np\n",
    "import pandas as pd\n",
    "import matplotlib.pyplot as plt\n",
    "import seaborn as sns\n",
    "\n",
    "%matplotlib inline\n",
    "sns.set_style(\"darkgrid\")\n"
   ],
   "id": "d0544f52-5a66-454b-b773-38db86503e3b"
  },
  {
   "cell_type": "markdown",
   "metadata": {},
   "source": [
    "Because of its high data availability, we choose the S&P 500 to analyze\n",
    "for our index."
   ],
   "id": "26aa88e0-4f92-4861-b770-971014ad52e9"
  },
  {
   "cell_type": "code",
   "execution_count": null,
   "metadata": {
    "exports": "both",
    "session": "MiniProject2"
   },
   "outputs": [],
   "source": [
    "def csv_to_series(csv_path):\n",
    "    s = pd.read_csv(csv_path)\n",
    "    s[\"Date\"] = pd.to_datetime(s[\"Date\"])\n",
    "    s.set_index(\"Date\",inplace = True)\n",
    "    returns = (s.shift(-1)-s) / s\n",
    "    returns.columns = [ticker + \" Returns\" for ticker in s.columns]\n",
    "    return pd.concat([s, returns],axis=1)\n",
    "\n",
    "sp500 = csv_to_series(\"./SP500-returns.csv\")\n",
    "sp500.rename(columns= {\"SPYSIM\": \"SP500\", \"SPYSIM Returns\":\"SP500 Returns\"},inplace=True)\n",
    "log_returns = np.log((1+sp500[\"SP500 Returns\"]).dropna())\n"
   ],
   "id": "b6a0a210-fd0b-40b1-be27-3e6a0af007c9"
  },
  {
   "cell_type": "markdown",
   "metadata": {},
   "source": [
    "# Heuristic Checks for Lognormality\n",
    "\n",
    "As a preliminary look, we can look at the distribution of daily returns."
   ],
   "id": "383cf17a-bc4e-42c4-8ffa-c553205423b0"
  },
  {
   "cell_type": "code",
   "execution_count": null,
   "metadata": {
    "exports": "both",
    "session": "MiniProject2"
   },
   "outputs": [],
   "source": [
    "log_returns.plot(kind=\"hist\",\n",
    "                          bins = 100,\n",
    "                          xlabel=\"Logdaily Returns\",\n",
    "                          ylabel=\"Observations\",\n",
    "                          title=\"Distribution of Logdaily S&P 500 Returns\")\n"
   ],
   "id": "0e7c8949-9b56-40c1-95ef-16062bf4cbe3"
  },
  {
   "cell_type": "markdown",
   "metadata": {},
   "source": [
    "A visual inspection is far from sufficient for a test of normality. We\n",
    "can first \"zoom in\" to the zero point to viseually cut out the outliers\n",
    "of log returns of absolute magnitude $> 0.10$."
   ],
   "id": "fef64d1f-f364-41cb-9ff2-48ccf2970ad7"
  },
  {
   "cell_type": "code",
   "execution_count": null,
   "metadata": {
    "exports": "both",
    "session": "MiniProject2"
   },
   "outputs": [],
   "source": [
    "log_returns.plot(kind=\"hist\",\n",
    "                          bins = 100,\n",
    "                          xlabel=\"Log Returns\",\n",
    "                          ylabel=\"Observations\",\n",
    "                          xlim=(-.1,.1),\n",
    "                          title=\"Distribution of Logdaily S&P 500 Returns\")\n"
   ],
   "id": "cd7aefc1-b9d8-4eea-a6c1-bfea6766eaa6"
  },
  {
   "cell_type": "markdown",
   "metadata": {},
   "source": [
    "We first note that the distribution appears negatively skewed, with the\n",
    "left tail being fatter than the right tail. We can verify this\n",
    "empirically"
   ],
   "id": "467c99e7-6b09-4c92-85d6-344d62aa2330"
  },
  {
   "cell_type": "code",
   "execution_count": null,
   "metadata": {
    "exports": "both",
    "session": "MiniProject2"
   },
   "outputs": [],
   "source": [
    "log_returns.skew()\n"
   ],
   "id": "3fc7d003-2496-4fc1-8c73-fa54290a7253"
  },
  {
   "cell_type": "markdown",
   "metadata": {},
   "source": [
    "Indeed, the distribution is negatively skewed. The value of skewness\n",
    "alone gives us a hint that the data are not normally distributed."
   ],
   "id": "5db4be7a-cac2-438d-802b-f2c097c75dda"
  },
  {
   "cell_type": "code",
   "execution_count": null,
   "metadata": {
    "exports": "both",
    "session": "MiniProject2"
   },
   "outputs": [],
   "source": [
    "# pd.DataFrame(log_returns).boxplot()\n",
    "sns.boxplot(log_returns)\n"
   ],
   "id": "29121b15-db50-4f6e-8628-44ae431472b6"
  },
  {
   "cell_type": "markdown",
   "metadata": {},
   "source": [
    "The vast majority of the log return values seem to lie in the interval\n",
    "$(-0.10,0.10)$. This is the range we will inspect."
   ],
   "id": "58878091-be4f-4cc1-ae0b-45b402ec3662"
  },
  {
   "cell_type": "code",
   "execution_count": null,
   "metadata": {
    "exports": "both",
    "session": "MiniProject2"
   },
   "outputs": [],
   "source": [
    "clamped=pd.DataFrame(log_returns[(log_returns <= 0.1) & (log_returns >= -0.1) ])\n",
    "sns.boxplot(clamped)\n"
   ],
   "id": "329130ec-82cd-41d4-89a5-a59dae35b2c2"
  },
  {
   "cell_type": "markdown",
   "metadata": {},
   "source": [
    "The boxplot still shows signs of negative skewness, but we can check if\n",
    "the magnitude of skewness is less than what we started with."
   ],
   "id": "654d15e1-0af0-4199-8229-4943a24fa84c"
  },
  {
   "cell_type": "code",
   "execution_count": null,
   "metadata": {
    "exports": "both",
    "session": "MiniProject2"
   },
   "outputs": [],
   "source": [
    "clamped.skew()\n"
   ],
   "id": "477ecf46-af6f-44fe-be6c-054b59ab5a1a"
  },
  {
   "cell_type": "markdown",
   "metadata": {},
   "source": [
    "The skewness does decrease in magnitude, but its value still indicates a\n",
    "distribution far from normal. It seems daily returns are too negatively\n",
    "skewed to recover a distribution that is normal.\n",
    "\n",
    "Instead, we can coarsen our return periods to weekly, monthly, and\n",
    "yearly returns to see if they exhibit different behaviours. We should\n",
    "expect this to be an improvement on log-daily returns, since the\n",
    "reliability of stock returns tends to increase the longer the time\n",
    "period you look at."
   ],
   "id": "324006eb-024a-4bfd-982c-c0a3c1d0a6f5"
  },
  {
   "cell_type": "code",
   "execution_count": null,
   "metadata": {
    "exports": "both",
    "session": "MiniProject2"
   },
   "outputs": [],
   "source": [
    "weekly_logs = log_returns.groupby(pd.Grouper(freq=\"W-MON\")).agg(\"sum\")\n",
    "weekly_logs.plot(kind=\"hist\",bins = 60,\n",
    "                 title=\"Weekly log Returns\",\n",
    "                 xlabel=\"Log Returns\")\n"
   ],
   "id": "1a335475-ff60-460f-995d-e0e24a3e5b83"
  },
  {
   "cell_type": "code",
   "execution_count": null,
   "metadata": {
    "exports": "both",
    "session": "MiniProject2"
   },
   "outputs": [],
   "source": [
    "weekly_logs.skew()\n"
   ],
   "id": "7c13fe02-4f29-4a21-b661-02b9eb6cbff8"
  },
  {
   "cell_type": "markdown",
   "metadata": {},
   "source": [
    "On the collection of all the data, the skewness of the weekly log\n",
    "returns is less skewed than the daily log returns, but still skewed in\n",
    "the same direction. We can coarsen the view to further to monthly\n",
    "returns."
   ],
   "id": "66e64346-c9e1-4eeb-849c-0f117d918afe"
  },
  {
   "cell_type": "code",
   "execution_count": null,
   "metadata": {
    "exports": "both",
    "session": "MiniProject2"
   },
   "outputs": [],
   "source": [
    "monthly_logs = log_returns.groupby(pd.Grouper(freq=\"ME\")).agg(\"sum\")\n",
    "monthly_logs.plot(kind=\"hist\",bins = 60,\n",
    "                 title=\"Monthly log Returns\",\n",
    "                 xlabel=\"Log Returns\")\n"
   ],
   "id": "61a5fd3c-46c4-4df6-b600-16b1cbeb5372"
  },
  {
   "cell_type": "code",
   "execution_count": null,
   "metadata": {
    "exports": "both",
    "session": "MiniProject2"
   },
   "outputs": [],
   "source": [
    "monthly_logs.skew()\n"
   ],
   "id": "3eafc195-a280-4752-b733-7b6af161e06b"
  },
  {
   "cell_type": "markdown",
   "metadata": {},
   "source": [
    "Even monthy returns are negatively skewed."
   ],
   "id": "44743fd5-9a0a-488b-84e2-fd38b3f03120"
  },
  {
   "cell_type": "code",
   "execution_count": null,
   "metadata": {
    "exports": "both",
    "session": "MiniProject2"
   },
   "outputs": [],
   "source": [
    "yearly_logs = log_returns.groupby(pd.Grouper(freq=\"YE\")).agg(\"sum\")\n",
    "yearly_logs.plot(kind=\"hist\",bins = 60,\n",
    "                 title=\"log Yearly Returns\",\n",
    "                 xlabel=\"Log Returns\")\n"
   ],
   "id": "5d9f1d32-a2c9-412f-93dc-a344f84bb4a0"
  },
  {
   "cell_type": "code",
   "execution_count": null,
   "metadata": {
    "exports": "both",
    "session": "MiniProject2"
   },
   "outputs": [],
   "source": [
    "yearly_logs.skew()\n"
   ],
   "id": "e58be4c6-d998-46ed-ba5f-391e8bad9318"
  },
  {
   "cell_type": "markdown",
   "metadata": {},
   "source": [
    "Even at time scales such as a year, returns of a diverse portfolio of US\n",
    "stocks shows little evidence of being normal on visual tests.\n",
    "\n",
    "# Formal Tests for Normality\n",
    "\n",
    "So far, our tests for normality has been heuristic in nature. There are\n",
    "formal tests for normality such as she Shapiro-Wilk test, which we can\n",
    "employ. Below is the resulting $p$ values extracted from the test, where\n",
    "the null hypothesis is that the data are normally distributed."
   ],
   "id": "ec3a9f8b-f2e1-4785-b9bb-113865f3050c"
  },
  {
   "cell_type": "code",
   "execution_count": null,
   "metadata": {
    "exports": "both",
    "session": "MiniProject2"
   },
   "outputs": [],
   "source": [
    "from scipy.stats import shapiro\n",
    "names = [\"Logdaily\", \"Logweekly\",\"Logmonthly\",\"Logyearly\"]\n",
    "vars = [log_returns,weekly_logs,monthly_logs,yearly_logs]\n",
    "results = {x[0]: float(shapiro(x[1])[1]) for x in zip(names,vars)}\n",
    "print(f\"Shapiro-Wilk p-values:\\n {results}\")\n"
   ],
   "id": "c7b2d1d9-d2d5-41b4-b271-0195f79f05ad"
  },
  {
   "cell_type": "markdown",
   "metadata": {},
   "source": [
    "In every performance of the Shapiro-Wilk test, the resulting $p$ value\n",
    "is decidedly below $0.05$, so in every case we reject the null\n",
    "hypothesis that the data are normally distributed.\n",
    "\n",
    "On the other hand, the `normaltest` from `scipy.stats` uses skewness and\n",
    "kurtosis to compare against a normal distribtution."
   ],
   "id": "25115835-3248-4aa6-b5a8-241ada32bba9"
  },
  {
   "cell_type": "code",
   "execution_count": null,
   "metadata": {
    "exports": "both",
    "session": "MiniProject2"
   },
   "outputs": [],
   "source": [
    "from scipy.stats import normaltest\n",
    "print(f\"p-values; skewness-kurtosis test:\\n{normaltest(pd.concat([log_returns, weekly_logs, monthly_logs,yearly_logs],axis=1),nan_policy='omit',axis=0).pvalue}\")\n"
   ],
   "id": "611a65cc-2ecb-4741-8786-efcacf986502"
  },
  {
   "cell_type": "markdown",
   "metadata": {},
   "source": [
    "In this test, too, there is sufficient evidence to reject the hypothesis\n",
    "that the data are normaly distributed at all sampled time scales.\n",
    "\n",
    "# Testing Particular Bull Markets\n",
    "\n",
    "Because of the pervasive observation that stock returns are negatively\n",
    "skewed, we might have better luck finding evidence of normality of stock\n",
    "returns during bull markets—periods where the market trends upward\n",
    "without a 20% drop from its high. Bull markets are usually marked by\n",
    "extended periods of lower volatility, and volatility tends to beget\n",
    "volatility, causing bouts out-of-sample returns that could disrupt a\n",
    "normal distribution.\n",
    "\n",
    "We first examine the longest bull market in US history: the period\n",
    "between December 1987 and March 2000"
   ],
   "id": "fd13a758-ed9a-418d-83e3-5d415e47f38e"
  },
  {
   "cell_type": "code",
   "execution_count": null,
   "metadata": {
    "exports": "both",
    "session": "MiniProject2"
   },
   "outputs": [],
   "source": [
    "start, end = (\"1987-12-01\",\"2000-03-01\")\n",
    "log_returns[start:end].plot(kind=\"hist\",bins=50,xlabel=\"Log Daily Returns\")\n",
    "\n"
   ],
   "id": "d3f1cd58-1573-406f-813f-b85900f3a850"
  },
  {
   "cell_type": "markdown",
   "metadata": {},
   "source": [
    "Looking at the distribution of daily returns, we can already see a\n",
    "thinning of the tails, though the daily returns still appear negatively\n",
    "distributed. We investigate the $p$ value of the formal Shapiro-Wilk\n",
    "test on the monthly returns during this bull market."
   ],
   "id": "1beb4f5a-ca15-4307-8ca5-b4566cbea119"
  },
  {
   "cell_type": "code",
   "execution_count": null,
   "metadata": {
    "exports": "both",
    "session": "MiniProject2"
   },
   "outputs": [],
   "source": [
    "print(f\"p = {shapiro(monthly_logs[start:end])[1]}\")\n"
   ],
   "id": "b99a6d6a-c275-4a60-8359-81d66132ba36"
  },
  {
   "cell_type": "markdown",
   "metadata": {},
   "source": [
    "With a tolerance of $p = 0.05$, there is not sufficient evidence to\n",
    "reject the null hypothesis that the data is normally distributed. Thus,\n",
    "there is possible evidence of the log monthly returns of the S&P 500\n",
    "being normally distributed during the 1987-2000 bull market.\n",
    "\n",
    "Let us investigate the second longest bull market spanning from March\n",
    "2009 to February 2020."
   ],
   "id": "c2330ffc-ec0a-4e5e-ae32-530ca3187867"
  },
  {
   "cell_type": "code",
   "execution_count": null,
   "metadata": {
    "exports": "both",
    "session": "MiniProject2"
   },
   "outputs": [],
   "source": [
    "start, end = (\"2009-03-01\", \"2020-02-01\")\n",
    "log_returns[start:end].plot(kind=\"hist\",bins=50,xlabel=\"Log Daily Returns\",\n",
    "                            title=\"Log Daily Returns Mar 2009-Feb 2020\")\n"
   ],
   "id": "73095319-bc91-4c0f-8b4c-ca268974ce42"
  },
  {
   "cell_type": "markdown",
   "metadata": {},
   "source": [
    "This time, the left tail is much fatter than the previous bull market\n",
    "under examination."
   ],
   "id": "7c2e1285-af6a-470d-a2c9-205ead226a7b"
  },
  {
   "cell_type": "code",
   "execution_count": null,
   "metadata": {
    "exports": "both",
    "session": "MiniProject2"
   },
   "outputs": [],
   "source": [
    "print(f\"p = {shapiro(monthly_logs[start:end])[1]}\")\n"
   ],
   "id": "9c04e590-b0e1-45e6-8583-168a0de239dc"
  },
  {
   "cell_type": "markdown",
   "metadata": {},
   "source": [
    "As the visual inspection suggested, we cannot conclude normality of the\n",
    "monthly returns in this period.\n",
    "\n",
    "## Conclusion\n",
    "\n",
    "We can conclude that it is very difficult to find periods of time and\n",
    "scales of time where stock returns are normally distributed, even when\n",
    "volatility is controlled by using a diversified portfolio. This suggests\n",
    "that the assumption of normal stock returns used in the Black-Scholes\n",
    "model does not reflect reality. It still serves the useful purpose of\n",
    "helping extract closed-form equation\n",
    "\n",
    "# A \"Portfolio\" with Normal Return\n",
    "\n",
    "For some commentary, we should not expect it to be easy to construct a\n",
    "portfolio of stocks (i.e. **equities**) with lognormal returns over a\n",
    "significant period of time. Equities are inherently riskier than other\n",
    "financial assets like bonds, and show fatter tails in distributions of\n",
    "historical returns on virtually all time scales. One typically reduces\n",
    "the volatility of a portfolio of stocks by allocating to \"safer\" kinds\n",
    "of stocks (e.g. consumer staples, utilities) or by moving away from\n",
    "stocks altogether and using bonds. Since we are interested in stocks\n",
    "only, we will work within the confines of equities.\n",
    "\n",
    "We hypothesize that a diverse portfolio is the wrong way to mine\n",
    "logreturns that might be normal. Instead, we look at a particular\n",
    "individual stock in the consumer staple sector, Coca-Cola (KO)."
   ],
   "id": "aa0433d4-6bd6-43c6-8d28-9df73dc090f8"
  },
  {
   "cell_type": "code",
   "execution_count": null,
   "metadata": {
    "session": "MiniProject2"
   },
   "outputs": [],
   "source": [
    "ko = csv_to_series(\"./KO.csv\")\n",
    "log_ko = np.log(1+ko[\"KO Returns\"])\n"
   ],
   "id": "e3e20a95-b96e-46cb-87e5-eb30640749ef"
  },
  {
   "cell_type": "code",
   "execution_count": null,
   "metadata": {
    "session": "MiniProject2"
   },
   "outputs": [],
   "source": [
    "shapiro(log_ko.groupby(pd.Grouper(freq=\"W-MON\")).agg(\"sum\"))\n"
   ],
   "id": "708e2137-768b-4a62-8fe2-0d77c5bfdaab"
  },
  {
   "cell_type": "code",
   "execution_count": null,
   "metadata": {
    "session": "MiniProject2"
   },
   "outputs": [],
   "source": [
    "p1 = np.log(1+ 0.20*sp500[\"SP500 Returns\"] + 0.40*ko[\"KO Returns\"] + 0.40*xlp[\"Staples Returns\"])\n",
    "p1[start:end].plot(kind=\"hist\",bins=80)\n",
    "shapiro(p1[start:end])\n"
   ],
   "id": "8b703fde-b792-4cc2-b83b-7c8baa672daf"
  },
  {
   "cell_type": "code",
   "execution_count": null,
   "metadata": {
    "session": "MiniProject2"
   },
   "outputs": [],
   "source": [
    "np.log(ko[\"KO\"]).plot(title=\"KO Logvalue: $10000 Invested\",\n",
    "                      ylabel = \"Logvalue\")\n"
   ],
   "id": "dffedf1f-42dc-454a-9c25-a02415669aa2"
  },
  {
   "cell_type": "markdown",
   "metadata": {},
   "source": [
    "From a visual inspection of the logvalue of an investment in KO, we see\n",
    "that the period between 1975 and 1982 shows promise for lognormal\n",
    "returns, based on intuition alone."
   ],
   "id": "021011ab-f634-4650-8a2f-649eeeee8f43"
  },
  {
   "cell_type": "code",
   "execution_count": null,
   "metadata": {
    "session": "MiniProject2"
   },
   "outputs": [],
   "source": [
    "s1,s2 = (\"1975-04-01\",\"1982-03-01\")\n",
    "\n",
    "np.log(ko[\"KO\"][s1:s2]).plot(title=\"KO Logvalue: $10000 Invested\",\n",
    "                      ylabel = \"Logvalue\")\n"
   ],
   "id": "6f3c2a19-04aa-4c7f-96e9-fc5c969a939e"
  },
  {
   "cell_type": "code",
   "execution_count": null,
   "metadata": {
    "session": "MiniProject2"
   },
   "outputs": [],
   "source": [
    "log_ko[s1:s2].plot(kind=\"hist\",bins=80)\n"
   ],
   "id": "6b7cd7bf-b66b-4378-9f52-5e69eba6a289"
  },
  {
   "cell_type": "markdown",
   "metadata": {},
   "source": [
    "Apart from the distribution of logdaily returns looking more favorable\n",
    "than our other assets, we can check the skewness and kurtosis:"
   ],
   "id": "6160f17e-d4cb-45e8-8e9c-fa3a403de061"
  },
  {
   "cell_type": "code",
   "execution_count": null,
   "metadata": {
    "session": "MiniProject2"
   },
   "outputs": [],
   "source": [
    "print(f\"KO Skew: {log_ko[s1:s2].skew()}\\nKO Kurtosis: {log_ko[s1:s2].kurtosis()}\")\n"
   ],
   "id": "83a71d92-11e7-4f0b-b03c-610a2582cd0c"
  },
  {
   "cell_type": "markdown",
   "metadata": {},
   "source": [
    "These metrics are the closest to normal distribution so far. A portfolio\n",
    "of 100% KO might yield logreturns resembling a normal distribution from\n",
    "the time period of 1975-04-01 to 1982-03-01. Over longer periods of\n",
    "time, it is extremely difficult to find a stock with lognormal returns,\n",
    "due to the long term observation that stocks tend to go up.\n",
    "\n",
    "To counterbalance any indiosyncratic movement specific to the consumer\n",
    "staple sector which KO operates in, we add a consumer discretionary\n",
    "option to our portfolio with MCD."
   ],
   "id": "3b8e250b-7fc1-4571-8ba9-60bf58c08eef"
  },
  {
   "cell_type": "code",
   "execution_count": null,
   "metadata": {
    "session": "MiniProject2"
   },
   "outputs": [],
   "source": [
    "mcd = csv_to_series(\"./MCD.csv\")\n",
    "log_mcd = np.log(1+mcd[\"MCD Returns\"])\n"
   ],
   "id": "b540f67e-01b7-47a6-babb-ac0498be72a9"
  },
  {
   "cell_type": "code",
   "execution_count": null,
   "metadata": {
    "session": "MiniProject2"
   },
   "outputs": [],
   "source": [
    "w1 = 0.8\n",
    "w2 = 1-w1\n",
    "p1 = np.log(1+ w1*ko[\"KO Returns\"] + w2*mcd[\"MCD Returns\"])\n",
    "p1[s1:s2].plot(kind=\"hist\",bins=80)\n"
   ],
   "id": "e5c7cebf-40c5-4e31-93e1-9f02206eff2b"
  },
  {
   "cell_type": "markdown",
   "metadata": {},
   "source": [
    "Even with the addition of a single stock to our portfolio at 20% weight,\n",
    "our distribution gets a big hit of negative skewness, pushing it away\n",
    "from normality.\n",
    "\n",
    "# An Explanation of more diversity=less normal\n",
    "\n",
    "As a function of diversification, negative skewness increases in\n",
    "magnitude. This has an easy empirical explanation: holding more stocks\n",
    "increases the reliability of consistent *positive* return, pushing the\n",
    "distribution of returns away from normality. This also explains why\n",
    "distributions of logreturns were less normal the more we coarsened our\n",
    "time view. Generally, it is more likely for portfolio's returns to be\n",
    "positive over the course of a year rather than the course of a day.\n",
    "\n",
    "Finding normally distributed returns in stocks is essentially an\n",
    "exercise in arbitrary data mining, and the pattern fails more often than\n",
    "it succeeds. Though, this is the point of this exercise: the assumption\n",
    "of normal stock returns in various financial models such as\n",
    "Black-Scholes is not borne out in reality, and this illustrates that\n",
    "plainly. The essence of assuming lognormal returns is simply a\n",
    "convenience to find closed form solutions to option prices, and models\n",
    "incorporating assumptions that reflect reality are much more difficult\n",
    "to work with."
   ],
   "id": "14ac23d5-08d2-4757-8a36-25473494c2b9"
  }
 ],
 "nbformat": 4,
 "nbformat_minor": 5,
 "metadata": {}
}
